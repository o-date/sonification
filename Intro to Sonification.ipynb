{
 "cells": [
  {
   "cell_type": "markdown",
   "metadata": {},
   "source": [
    "# Sonification\n",
    "\n",
    "In this notebook, we use the miditime package to represent time-series data in sound. We use timidity to play the resulting midi file."
   ]
  },
  {
   "cell_type": "code",
   "execution_count": 1,
   "metadata": {},
   "outputs": [
    {
     "name": "stdout",
     "output_type": "stream",
     "text": [
      "60 0 3 200\n",
      "61 10 4 200\n"
     ]
    }
   ],
   "source": [
    "# A demo script that creates two notes\n",
    "\n",
    "from miditime.miditime import MIDITime\n",
    "# NOTE: this import works at least as of v1.1.3; for older versions or forks of miditime, you may need to use\n",
    "# from miditime.MIDITime import MIDITime\n",
    "\n",
    "# Instantiate the class with a tempo (120bpm is the default) and an output file destination.\n",
    "mymidi = MIDITime(120, 'myfile.mid')\n",
    "\n",
    "# Create a list of notes. Each note is a list: [time, pitch, attack, duration]\n",
    "midinotes = [\n",
    "    [0, 60, 200, 3],  #At 0 beats (the start), Middle C with attack 200, for 3 beats\n",
    "    [10, 61, 200, 4]  #At 10 beats (12 seconds from start), C#5 with attack 200, for 4 beats\n",
    "]\n",
    "\n",
    "# Add a track with those notes\n",
    "mymidi.add_track(midinotes)\n",
    "\n",
    "# Output the .mid file\n",
    "mymidi.save_midi()"
   ]
  },
  {
   "cell_type": "markdown",
   "metadata": {},
   "source": [
    "Your music file - with just two notes! - is now available for download. From the 'home' page for this notebook, select and then download the file. Double-click it on your machine. Whatever program you use for music on your own computer should be able to play it. A mid file is not, in itself, music (in the sense that an mp3 is a compressed representation of the music. It is more akin to the digital representation of a score that the computer plays with a default instrument (often, a piano)."
   ]
  },
  {
   "cell_type": "markdown",
   "metadata": {},
   "source": [
    "## Writing music\n",
    "\n",
    "Play with that script now, and add more notes. Try something simple - the notes for ‘Baa Baa Black Sheep’ are:\n",
    "\n",
    "```\n",
    "D, D, A, A, B, B, B, B, A\n",
    "Baa, Baa, black, sheep, have, you, any, wool?\n",
    "```\n",
    "\n",
    "Middle C is '60' - this [chart](https://web.archive.org/web/20171211192102/http://www.electronics.dit.ie/staff/tscarff/Music_technology/midi/midi_note_numbers_for_octaves.htm) show the numerical representation of each note on the 88 key keyboard."
   ]
  },
  {
   "cell_type": "markdown",
   "metadata": {},
   "source": [
    "## Let's represent some data\n",
    "The miditime package is written with time series data in mind:\n",
    "\n",
    "```\n",
    "my_data = [\n",
    "    {'event_date': <datetime object>, 'magnitude': 3.4},\n",
    "    {'event_date': <datetime object>, 'magnitude': 3.2},\n",
    "    {'event_date': <datetime object>, 'magnitude': 3.6},\n",
    "    {'event_date': <datetime object>, 'magnitude': 3.0},\n",
    "    {'event_date': <datetime object>, 'magnitude': 5.6},\n",
    "    {'event_date': <datetime object>, 'magnitude': 4.0}\n",
    "]\n",
    "```\n",
    "Here we're dealing with earthquake data, and it's in json notation. The `datetime object` is a particular way of formatting the date: `datetime(1753,6,8)` would be June 8 1753. Following the example that [miditime provides](https://github.com/cirlabs/miditime), we can build up a sonification of this earthquake data like this:\n"
   ]
  },
  {
   "cell_type": "code",
   "execution_count": null,
   "metadata": {},
   "outputs": [],
   "source": [
    "# tempo (120bpm is the default), an output file destination, \n",
    "# the number of seconds you want to represent a year in the final song (default is 5 sec/year),\n",
    "# the base octave (C5 is middle C, so the default is 5, \n",
    "# and how many octaves you want your output to range over (default is 1)\n",
    "from miditime.miditime import MIDITime\n",
    "mymidi = MIDITime(120, 'myfile.mid', 5, 5, 1)"
   ]
  },
  {
   "cell_type": "code",
   "execution_count": null,
   "metadata": {},
   "outputs": [],
   "source": [
    "my_data = [\n",
    "    {'event_date': datetime(1753,6,8), 'magnitude': 3.4},\n",
    "    {'event_date': datetime(1800,3,4), 'magnitude': 3.2},\n",
    "    {'event_date': datetime(1810,1,16), 'magnitude': 3.6},\n",
    "    {'event_date': datetime(1812,8,23), 'magnitude': 3.0},\n",
    "    {'event_date': datetime(1813,10,10), 'magnitude': 5.6},\n",
    "    {'event_date': datetime(1824,1,5), 'magnitude': 4.0}\n",
    "]"
   ]
  },
  {
   "cell_type": "code",
   "execution_count": null,
   "metadata": {},
   "outputs": [],
   "source": [
    "my_data_epoched = [{'days_since_epoch': mymidi.days_since_epoch(d['event_date']), 'magnitude': d['magnitude']} for d in my_data]"
   ]
  },
  {
   "cell_type": "code",
   "execution_count": null,
   "metadata": {},
   "outputs": [],
   "source": [
    "my_data_timed = [{'beat': mymidi.beat(d['days_since_epoch']), 'magnitude': d['magnitude']} for d in my_data_epoched]"
   ]
  },
  {
   "cell_type": "code",
   "execution_count": null,
   "metadata": {},
   "outputs": [],
   "source": []
  }
 ],
 "metadata": {
  "kernelspec": {
   "display_name": "Python 2",
   "language": "python",
   "name": "python2"
  },
  "language_info": {
   "codemirror_mode": {
    "name": "ipython",
    "version": 3
   },
   "file_extension": ".py",
   "mimetype": "text/x-python",
   "name": "python",
   "nbconvert_exporter": "python",
   "pygments_lexer": "ipython3",
   "version": "3.6.5"
  }
 },
 "nbformat": 4,
 "nbformat_minor": 2
}
